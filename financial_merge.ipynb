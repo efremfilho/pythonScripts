{
  "nbformat": 4,
  "nbformat_minor": 0,
  "metadata": {
    "colab": {
      "name": "conciliacao.ipynb",
      "provenance": [],
      "collapsed_sections": []
    },
    "kernelspec": {
      "name": "python3",
      "display_name": "Python 3"
    }
  },
  "cells": [
    {
      "cell_type": "code",
      "metadata": {
        "id": "d_fFBwsTK2NC",
        "colab_type": "code",
        "colab": {}
      },
      "source": [
        "import pandas as pd\n",
        "pd.set_option('display.precision',13)\n",
        "import io\n",
        "import re\n",
        "from google.colab import files"
      ],
      "execution_count": null,
      "outputs": []
    },
    {
      "cell_type": "code",
      "metadata": {
        "id": "JZGOGTFsHc1c",
        "colab_type": "code",
        "colab": {}
      },
      "source": [
        "!pip install PyDrive\n",
        "from pydrive.auth import GoogleAuth\n",
        "from pydrive.drive import GoogleDrive\n",
        "from google.colab import auth\n",
        "from oauth2client.client import GoogleCredentials\n",
        "auth.authenticate_user()\n",
        "gauth = GoogleAuth()\n",
        "gauth.credentials = GoogleCredentials.get_application_default()\n",
        "drive = GoogleDrive(gauth)"
      ],
      "execution_count": null,
      "outputs": []
    },
    {
      "cell_type": "code",
      "metadata": {
        "id": "ugqKPKdXpOPs",
        "colab_type": "code",
        "colab": {}
      },
      "source": [
        "uploaded_pagseguro = drive.CreateFile({'id':'[YOUR ID]'})   # id pagseguro\n",
        "uploaded_pagseguro.GetContentFile('[YOUR FILE NAME]')        # name pagseguro\n",
        "uploaded_paypal = drive.CreateFile({'id':'[YOUR ID]'})   # id paypal\n",
        "uploaded_paypal.GetContentFile('[YOUR FILE NAME]')        # name paypal\n",
        "uploaded_shopify = drive.CreateFile({'id':'[YOUR ID]'})   # id shopify\n",
        "uploaded_shopify.GetContentFile('[YOUR FILE NAME]')        # name shopify\n",
        "df_shopify = pd.read_csv('[YOUR FILE NAME]')\n",
        "df_paypal = pd.read_csv('[YOUR FILE NAME]')\n",
        "df_pagseguro = pd.read_csv('[YOUR FILE NAME]',index_col=False, encoding='latin-1', sep=';')\n",
        "df_pagseguro['Ref_Transacao'] = df_pagseguro['Ref_Transacao'].apply(str).replace('c|.\\0|\\.1|\\.2|\\.3|\\.4|\\.5','').map(lambda x: str(x)[:-2])\n",
        "df_paypal['Número da fatura'] = df_paypal['Número da fatura'].str.replace('c|.\\0|\\.1|\\.2|\\.3|\\.4|\\.5','')\n",
        "df_shopify['Payment Reference'] = df_shopify['Payment Reference'].str.replace('c|.\\0|\\.1|\\.2|\\.3|\\.4|\\.5','')\n",
        "df_paypal.rename(columns={'Número da fatura':'Payment Reference'}, inplace=True)\n",
        "df_paypal.rename(columns={'Tarifa':'tax_provider'}, inplace=True)\n",
        "df_pagseguro.rename(columns={'Ref_Transacao':'Payment Reference'}, inplace=True)\n",
        "df_pagseguro.rename(columns={'Valor_Taxa':'tax_provider'}, inplace=True)\n",
        "df_paypal['tax_provider'] = df_paypal['tax_provider'].str.replace('-','')\n",
        "df_paypal['tax_provider'] = df_paypal['tax_provider'].str.replace(',','.').astype(float)\n",
        "df_pagseguro['tax_provider'] = df_pagseguro['tax_provider'].str.replace(',','.').astype(float)\n",
        "df_providers = df_paypal[df_paypal['Payment Reference'].apply(lambda x: len(str(x))>3)][['Payment Reference','tax_provider']]\n",
        "df_providers = df_providers.append(df_pagseguro[df_pagseguro['Payment Reference'].apply(lambda x: len(str(x))>3)][['Payment Reference','tax_provider']])\n",
        "df_result = pd.merge(df_shopify,df_providers,how='left',left_on='Payment Reference',right_on='Payment Reference')\n",
        "df_final = df_result[df_result['Financial Status'] == 'paid'][['Name','Email','Vendor','Lineitem name','Total','Discount Amount','Payment Method','Payment Reference','tax_provider']]\n",
        "df_final['tax_shopify'] = df_final.Total * 0.02 # % of shopify\n",
        "df_final['tax_zeeplo'] = (df_final.Total - df_final.tax_shopify - df_final.tax_provider)*.1 # % of partner\n",
        "df_final['creator_Amount'] = df_final.Total - df_final.tax_shopify - df_final.tax_zeeplo - df_final.tax_provider"
      ],
      "execution_count": 127,
      "outputs": []
    },
    {
      "cell_type": "code",
      "metadata": {
        "id": "HkreM-y2ndbN",
        "colab_type": "code",
        "colab": {}
      },
      "source": [
        "  df_final.to_csv(r'final_data.csv')"
      ],
      "execution_count": 128,
      "outputs": []
    }
  ]
}
